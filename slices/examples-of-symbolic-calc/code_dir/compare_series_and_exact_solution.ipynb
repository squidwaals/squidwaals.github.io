{
 "cells": [
  {
   "cell_type": "code",
   "execution_count": 1,
   "id": "cd791290-0ddd-4b60-9a5d-95334eb97620",
   "metadata": {},
   "outputs": [],
   "source": [
    "import mpmath\n",
    "import sympy as sym\n",
    "import numpy as np\n",
    "from matplotlib import pyplot as plt"
   ]
  },
  {
   "cell_type": "code",
   "execution_count": null,
   "id": "56e2e119-1b83-41d5-88b2-7f10f914babd",
   "metadata": {},
   "outputs": [],
   "source": []
  },
  {
   "cell_type": "markdown",
   "id": "4f5e442d-35d6-43a1-ae50-109e2ad6404c",
   "metadata": {
    "panel-layout": {
     "height": 51.13541793823242,
     "visible": true,
     "width": 100
    }
   },
   "source": [
    "parameters"
   ]
  },
  {
   "cell_type": "code",
   "execution_count": 2,
   "id": "a5062958-2ee9-4db7-bc9e-9b53be9c4a2d",
   "metadata": {},
   "outputs": [],
   "source": [
    "d = 1\n",
    "k0d_num = 0.4826 * np.pi\n",
    "k0d = sym.symbols('{k_0}d', real=True)\n",
    "kexd_num = np.pi\n",
    "kexd = sym.pi"
   ]
  },
  {
   "cell_type": "markdown",
   "id": "44b2a416-4dfc-47ef-bca4-59c377933d4c",
   "metadata": {},
   "source": [
    "function preparation"
   ]
  },
  {
   "cell_type": "code",
   "execution_count": 3,
   "id": "18cce19b-78d8-4389-9f85-81f262cbdd3d",
   "metadata": {},
   "outputs": [],
   "source": [
    "def kz_plus_num(kzd, k0d, d):\n",
    "    return np.exp(1j * (k0d + kzd) )\n",
    "def kz_minus_num(kzd, k0d, d):\n",
    "    return np.exp(1j * (k0d - kzd) )\n",
    "\n",
    "def polylog(s,z):\n",
    "    return complex(mpmath.polylog(s,z))"
   ]
  },
  {
   "cell_type": "code",
   "execution_count": 4,
   "id": "c71995e8-225f-4a9e-bd16-3d4a961454fc",
   "metadata": {},
   "outputs": [],
   "source": [
    "def exp_expansion(substitute, order):\n",
    "\n",
    "    x = sym.symbols('x')\n",
    "    \n",
    "    f = sym.series(sym.exp(sym.I * x), x, 0 ,order+1).removeO()\n",
    "\n",
    "    result = f.subs('x', substitute)\n",
    "    \n",
    "    return result\n",
    "\n",
    "def pl_expansion(s, substitute, k0d, d, bias, order, plus=True):\n",
    "\n",
    "    x = sym.symbols('x')\n",
    "\n",
    "    if plus:\n",
    "        f = sym.series(sym.polylog(s, x), x, sym.exp(sym.I * (k0d + bias)), order+1).removeO()\n",
    "    else:\n",
    "        f = sym.series(sym.polylog(s, x), x, sym.exp(sym.I * (k0d - bias)), order+1).removeO()\n",
    "\n",
    "    result = f.subs('x', substitute)\n",
    "\n",
    "    return result"
   ]
  },
  {
   "cell_type": "code",
   "execution_count": 5,
   "id": "b238fcf9-2f7b-4716-bb31-38447ea88cf4",
   "metadata": {},
   "outputs": [],
   "source": [
    "def kz_plus(kzd, k0d, d, bias, order):\n",
    "    \n",
    "    return sym.exp(sym.I * (k0d + bias)) * exp_expansion(kzd-bias, order)\n",
    "    \n",
    "def kz_minus(kzd, k0d, d, bias, order):\n",
    "    \n",
    "    return sym.exp(sym.I * (k0d - bias)) * exp_expansion(-(kzd-bias), order)"
   ]
  },
  {
   "cell_type": "markdown",
   "id": "da1e4dff-5a95-44a5-bdc8-8af806a907d5",
   "metadata": {},
   "source": [
    "dispersion function"
   ]
  },
  {
   "cell_type": "code",
   "execution_count": 6,
   "id": "fc30a46b-965c-46d5-a413-7c6b6484ae11",
   "metadata": {},
   "outputs": [],
   "source": [
    "def dispersion_perp_num(kzd, k0d, d):\n",
    "    \n",
    "    polylog_sum = polylog(3, kz_plus_num(kzd, k0d, d)) + polylog(3, kz_minus_num(kzd, k0d, d)) - 1j * k0d * (polylog(2, kz_plus_num(kzd, k0d, d)) + polylog(2, kz_minus_num(kzd, k0d, d))) + k0d**2 * (np.log((1 - kz_plus_num(kzd, k0d, d)) * (1 - kz_minus_num(kzd, k0d, d))))\n",
    "    \n",
    "    result = 3/4/k0d**3 * polylog_sum.real\n",
    "    \n",
    "    return result"
   ]
  },
  {
   "cell_type": "code",
   "execution_count": 7,
   "id": "44024115-c688-45c3-8c26-167551572810",
   "metadata": {},
   "outputs": [],
   "source": [
    "def dispersion_perp_complex_expansion(kzd, k0d, d, bias, order=4):\n",
    "    \n",
    "    polylog_sum = pl_expansion(3, kz_plus(kzd, k0d, d, bias, order), k0d, d, bias, order, plus=True) + pl_expansion(3, kz_minus(kzd, k0d, d, bias, order), k0d, d, bias, order, plus=False) -\\\n",
    "                    sym.I * k0d * (pl_expansion(2, kz_plus(kzd, k0d, d, bias, order), k0d, d, bias, order, plus=True) + pl_expansion(2, kz_minus(kzd, k0d, d, bias, order), k0d, d, bias, order, plus=False)) - \\\n",
    "                    k0d**2 * (pl_expansion(1, kz_plus(kzd, k0d, d, bias, order), k0d, d, bias, order, plus=True) + pl_expansion(1, kz_minus(kzd, k0d, d, bias, order), k0d, d, bias, order, plus=False))\n",
    "    \n",
    "    result = sym.Integer(3)/sym.Integer(4)/k0d**3 * polylog_sum\n",
    "    \n",
    "    return result"
   ]
  },
  {
   "cell_type": "markdown",
   "id": "56281226-5505-4e34-9c5d-5e0cc2924766",
   "metadata": {},
   "source": [
    "construct"
   ]
  },
  {
   "cell_type": "code",
   "execution_count": 34,
   "id": "a35b0d78-b836-458b-b605-cb1cac72bd86",
   "metadata": {},
   "outputs": [],
   "source": [
    "def construct_dispersion(coeff_k0, coeff_k2, coeff_k4, k0d, k0d_num, kexd_num):\n",
    "\n",
    "    coeff_k0_num = float(sym.re(coeff_k0.subs(k0d, k0d_num).evalf()))\n",
    "    coeff_k2_num = float(sym.re(coeff_k2.subs(k0d, k0d_num).evalf()))\n",
    "    coeff_k4_num = float(sym.re(coeff_k4.subs(k0d, k0d_num).evalf()))\n",
    "\n",
    "    result = lambda x: coeff_k0_num + coeff_k2_num * (x - kexd_num)**2 + coeff_k4_num * (x - kexd_num)**4\n",
    "\n",
    "    return result"
   ]
  },
  {
   "cell_type": "code",
   "execution_count": null,
   "id": "082fb766-16c0-44cc-a727-20becaca48bb",
   "metadata": {},
   "outputs": [],
   "source": []
  },
  {
   "cell_type": "code",
   "execution_count": null,
   "id": "890fdd39-a18f-4559-883b-f463f1022114",
   "metadata": {},
   "outputs": [],
   "source": []
  },
  {
   "cell_type": "code",
   "execution_count": 35,
   "id": "e5372681-504a-4758-83b4-280e95c8b278",
   "metadata": {},
   "outputs": [],
   "source": [
    "kzd = sym.symbols('{k_z}d')\n",
    "x = sym.symbols('x')"
   ]
  },
  {
   "cell_type": "code",
   "execution_count": 36,
   "id": "4d81d7d1-6546-4941-bbaa-e407d525f181",
   "metadata": {},
   "outputs": [],
   "source": [
    "f = dispersion_perp_complex_expansion(kzd, k0d, d, bias=kexd, order=4).subs(kzd, x+kexd)\n",
    "f = f.expand().collect(x)"
   ]
  },
  {
   "cell_type": "code",
   "execution_count": 37,
   "id": "8c4f46d0-23dd-4c37-8eef-7e3a36732ca3",
   "metadata": {},
   "outputs": [],
   "source": [
    "coeff_k4 = sym.simplify(f.coeff(x**4))\n",
    "coeff_k2 = sym.simplify(f.coeff(x**2))\n",
    "coeff_k0 = sym.simplify(f.subs(x, 0))"
   ]
  },
  {
   "cell_type": "code",
   "execution_count": 38,
   "id": "3206f147-7ba0-4e8a-b068-b29fd54558c3",
   "metadata": {},
   "outputs": [
    {
     "data": {
      "text/latex": [
       "$\\displaystyle \\frac{\\left({k_0}d^{2} e^{2 i {k_0}d} - 4 {k_0}d^{2} e^{i {k_0}d} + {k_0}d^{2} - i {k_0}d e^{2 i {k_0}d} + i {k_0}d - e^{2 i {k_0}d} - 2 e^{i {k_0}d} - 1\\right) e^{i {k_0}d}}{16 {k_0}d^{3} \\left(e^{4 i {k_0}d} + 4 e^{3 i {k_0}d} + 6 e^{2 i {k_0}d} + 4 e^{i {k_0}d} + 1\\right)}$"
      ],
      "text/plain": [
       "({k_0}d**2*exp(2*I*{k_0}d) - 4*{k_0}d**2*exp(I*{k_0}d) + {k_0}d**2 - I*{k_0}d*exp(2*I*{k_0}d) + I*{k_0}d - exp(2*I*{k_0}d) - 2*exp(I*{k_0}d) - 1)*exp(I*{k_0}d)/(16*{k_0}d**3*(exp(4*I*{k_0}d) + 4*exp(3*I*{k_0}d) + 6*exp(2*I*{k_0}d) + 4*exp(I*{k_0}d) + 1))"
      ]
     },
     "execution_count": 38,
     "metadata": {},
     "output_type": "execute_result"
    }
   ],
   "source": [
    "coeff_k4"
   ]
  },
  {
   "cell_type": "code",
   "execution_count": 39,
   "id": "e84acafa-1b3d-40ba-9a0e-4cff96a558e4",
   "metadata": {},
   "outputs": [
    {
     "data": {
      "text/latex": [
       "$\\displaystyle \\frac{3 \\left(- {k_0}d^{2} e^{i {k_0}d} - i {k_0}d e^{2 i {k_0}d} - i {k_0}d e^{i {k_0}d} - e^{2 i {k_0}d} \\operatorname{Li}_{1}\\left(- e^{i {k_0}d}\\right) - 2 e^{i {k_0}d} \\operatorname{Li}_{1}\\left(- e^{i {k_0}d}\\right) - \\operatorname{Li}_{1}\\left(- e^{i {k_0}d}\\right)\\right)}{4 {k_0}d^{3} \\left(e^{2 i {k_0}d} + 2 e^{i {k_0}d} + 1\\right)}$"
      ],
      "text/plain": [
       "3*(-{k_0}d**2*exp(I*{k_0}d) - I*{k_0}d*exp(2*I*{k_0}d) - I*{k_0}d*exp(I*{k_0}d) - exp(2*I*{k_0}d)*polylog(1, -exp(I*{k_0}d)) - 2*exp(I*{k_0}d)*polylog(1, -exp(I*{k_0}d)) - polylog(1, -exp(I*{k_0}d)))/(4*{k_0}d**3*(exp(2*I*{k_0}d) + 2*exp(I*{k_0}d) + 1))"
      ]
     },
     "execution_count": 39,
     "metadata": {},
     "output_type": "execute_result"
    }
   ],
   "source": [
    "coeff_k2"
   ]
  },
  {
   "cell_type": "code",
   "execution_count": 40,
   "id": "f924fe43-69cb-4f95-99c4-1ca4be4da4aa",
   "metadata": {},
   "outputs": [
    {
     "data": {
      "text/latex": [
       "$\\displaystyle \\frac{3 \\left(- {k_0}d^{2} \\operatorname{Li}_{1}\\left(- e^{i {k_0}d}\\right) - i {k_0}d \\operatorname{Li}_{2}\\left(- e^{i {k_0}d}\\right) + \\operatorname{Li}_{3}\\left(- e^{i {k_0}d}\\right)\\right)}{2 {k_0}d^{3}}$"
      ],
      "text/plain": [
       "3*(-{k_0}d**2*polylog(1, -exp(I*{k_0}d)) - I*{k_0}d*polylog(2, -exp(I*{k_0}d)) + polylog(3, -exp(I*{k_0}d)))/(2*{k_0}d**3)"
      ]
     },
     "execution_count": 40,
     "metadata": {},
     "output_type": "execute_result"
    }
   ],
   "source": [
    "coeff_k0"
   ]
  },
  {
   "cell_type": "code",
   "execution_count": null,
   "id": "f640a1eb-e8be-408b-9237-004a3e5bfee3",
   "metadata": {},
   "outputs": [],
   "source": []
  },
  {
   "cell_type": "code",
   "execution_count": null,
   "id": "51786387-160e-481e-b3ab-90395f7daba0",
   "metadata": {},
   "outputs": [],
   "source": []
  },
  {
   "cell_type": "code",
   "execution_count": null,
   "id": "24135e4e-3356-44c7-a358-f1ffe44af5cb",
   "metadata": {},
   "outputs": [],
   "source": []
  },
  {
   "cell_type": "code",
   "execution_count": 74,
   "id": "bae6dcae-6a44-446c-af53-845ad256613c",
   "metadata": {},
   "outputs": [],
   "source": [
    "dispersion_perp_constructed = construct_dispersion(coeff_k0, coeff_k2, coeff_k4, k0d, k0d_num, kexd_num)"
   ]
  },
  {
   "cell_type": "code",
   "execution_count": 75,
   "id": "a15ff410-7ffc-4af1-be44-db60b1be4161",
   "metadata": {},
   "outputs": [],
   "source": [
    "kzd_array = np.linspace(0.97, 1.03,300)\n",
    "omega_perp_array = np.array(list(map(lambda x: dispersion_perp_num(x, k0d_num, d), kzd_array*np.pi)))\n",
    "omega_perp_constructed_array = np.array(list(map(lambda x: dispersion_perp_constructed(x), kzd_array*np.pi)))\n",
    "\n",
    "kzd_array_longer = np.linspace(0.0, 2.0,300)\n",
    "omega_perp_array_longer = np.array(list(map(lambda x: dispersion_perp_num(x, k0d_num, d), kzd_array_longer*np.pi)))\n",
    "omega_perp_constructed_array_longer = np.array(list(map(lambda x: dispersion_perp_constructed(x), kzd_array_longer*np.pi)))"
   ]
  },
  {
   "cell_type": "code",
   "execution_count": 76,
   "id": "29bf0fd7-3467-49b8-a700-7f91e862de70",
   "metadata": {
    "panel-layout": {
     "height": 728.135,
     "visible": true,
     "width": 100
    }
   },
   "outputs": [
    {
     "data": {
      "image/png": "[encoded data removed]",
      "text/plain": [
       "<Figure size 900x400 with 2 Axes>"
      ]
     },
     "metadata": {},
     "output_type": "display_data"
    }
   ],
   "source": [
    "fig, axes = plt.subplots(1,2,figsize=(9,4))\n",
    "axes[0].plot(kzd_array, omega_perp_array, label=r'exact $\\omega_k$')\n",
    "axes[0].plot(kzd_array, omega_perp_constructed_array, label=r'$a_0 + a_2 (k - k_{ex})^2 + a_4 (k - k_{ex})^4 $')\n",
    "axes[0].set_title(r'$k_0 d = 0.4826 \\pi$', y=0.3)\n",
    "axes[0].set_ylabel(r'$\\omega_k/\\gamma_0$')\n",
    "axes[0].set_xlabel(r'$kd/\\pi$')\n",
    "axes[0].legend()\n",
    "axes[1].plot(kzd_array_longer, omega_perp_array_longer, label=r'exact $\\omega_k$')\n",
    "axes[1].plot(kzd_array_longer, omega_perp_constructed_array_longer, label=r'$a_0 + a_2 (k - k_{ex})^2 + a_4 (k - k_{ex})^4 $')\n",
    "axes[1].set_title(r'$k_0 d = 0.4826 \\pi$', y=0.3)\n",
    "axes[1].set_ylabel(r'$\\omega_k/\\gamma_0$')\n",
    "axes[1].set_xlabel(r'$kd/\\pi$')\n",
    "axes[1].legend()\n",
    "plt.tight_layout()\n",
    "plt.show()"
   ]
  },
  {
   "cell_type": "code",
   "execution_count": null,
   "id": "f675bca1-bbe5-46df-aef4-d6f3ce2946e0",
   "metadata": {},
   "outputs": [],
   "source": []
  },
  {
   "cell_type": "code",
   "execution_count": null,
   "id": "7cff37fe-bd0a-4721-a7f2-b76c465f8b1c",
   "metadata": {},
   "outputs": [],
   "source": []
  },
  {
   "cell_type": "code",
   "execution_count": null,
   "id": "0df76cbf-64d2-4f6c-bcde-0a90cca8b38c",
   "metadata": {},
   "outputs": [],
   "source": []
  },
  {
   "cell_type": "code",
   "execution_count": null,
   "id": "d336d586-af29-489e-802a-e76a8067f4ba",
   "metadata": {},
   "outputs": [],
   "source": []
  },
  {
   "cell_type": "code",
   "execution_count": null,
   "id": "bb556186-8a03-4b1a-b60e-f0ae4b658a1f",
   "metadata": {},
   "outputs": [],
   "source": []
  }
 ],
 "metadata": {
  "kernelspec": {
   "display_name": "Python 3 (ipykernel)",
   "language": "python",
   "name": "python3"
  },
  "language_info": {
   "codemirror_mode": {
    "name": "ipython",
    "version": 3
   },
   "file_extension": ".py",
   "mimetype": "text/x-python",
   "name": "python",
   "nbconvert_exporter": "python",
   "pygments_lexer": "ipython3",
   "version": "3.12.7"
  }
 },
 "nbformat": 4,
 "nbformat_minor": 5
}
